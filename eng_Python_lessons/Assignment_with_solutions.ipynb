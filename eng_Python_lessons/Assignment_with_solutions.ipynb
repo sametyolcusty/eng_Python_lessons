{
 "cells": [
  {
   "cell_type": "markdown",
   "metadata": {},
   "source": [
    "1 - Take two inputs from the user. If these inputs are integers, print their product."
   ]
  },
  {
   "cell_type": "code",
   "execution_count": 5,
   "metadata": {},
   "outputs": [
    {
     "name": "stdout",
     "output_type": "stream",
     "text": [
      "The product of 5 and 9 is 45.\n"
     ]
    }
   ],
   "source": [
    "input_1 = input(\"Enter the first number: \")\n",
    "input_2 = input(\"Enter the second number: \")\n",
    "\n",
    "if input_1.isdigit() and input_2.isdigit():\n",
    "    num1 = int(input_1)\n",
    "    num2 = int(input_2)\n",
    "    product = num1 * num2\n",
    "    print(f\"The product of {num1} and {num2} is {product}.\")\n",
    "else:\n",
    "    print(\"please give valid integer\")\n"
   ]
  },
  {
   "cell_type": "markdown",
   "metadata": {},
   "source": [
    "2 - Ask the user for a number. If the number is odd, print twice its value; if even, print its square."
   ]
  },
  {
   "cell_type": "code",
   "execution_count": 10,
   "metadata": {},
   "outputs": [
    {
     "name": "stdout",
     "output_type": "stream",
     "text": [
      "The number is odd. Twice its value is 10.\n"
     ]
    }
   ],
   "source": [
    "number = int(input(\"plelase,enter a number\"))\n",
    "\n",
    "if number % 2 == 1:  \n",
    "    result = number * 2  \n",
    "    print(f\"The number is odd. Twice its value is {result}.\")\n",
    "else:  \n",
    "    result = number ** 2  \n",
    "    print(f\"The number is even. Its square is {result}.\")"
   ]
  },
  {
   "cell_type": "markdown",
   "metadata": {},
   "source": [
    "4 - Ask the user for their exam score. Print the corresponding letter grade. Remember to indicate that scores entered outside the range of 0-100 are invalid.\n",
    "\n",
    "- For scores between 80 and 100, print \"A\".\n",
    "- For scores between 65 and 79, print \"B\".\n",
    "- For scores between 55 and 64, print \"C\".\n",
    "- For scores between 35 and 54, print \"D\".\n",
    "- For scores between 0 and 34, print \"F\"."
   ]
  },
  {
   "cell_type": "code",
   "execution_count": 12,
   "metadata": {},
   "outputs": [
    {
     "name": "stdout",
     "output_type": "stream",
     "text": [
      "Your letter grade is: A\n"
     ]
    }
   ],
   "source": [
    "score = int(input(\"Enter your exam score\"))\n",
    "\n",
    "if score < 0 or score > 100:\n",
    "    print(\"Please enter a score between 0 and 100.\")\n",
    "else:\n",
    "    if score >= 80:\n",
    "        grade = \"A\"\n",
    "    elif score >= 65:\n",
    "        grade = \"B\"\n",
    "    elif score >= 55:\n",
    "        grade = \"C\"\n",
    "    elif score >= 35:\n",
    "        grade = \"D\"\n",
    "    else:\n",
    "        grade = \"F\"\n",
    "\n",
    "    print(f\"Your letter grade is {grade}\")"
   ]
  },
  {
   "cell_type": "markdown",
   "metadata": {},
   "source": [
    "5 - Ask the user to enter a value in seconds. Print the entered seconds in terms of hours, minutes, and seconds.\n",
    "\n",
    "For example: \n",
    "- If the user enters 19520 seconds, the output should be \"5 hours, 25 minutes, 20 seconds\"."
   ]
  },
  {
   "cell_type": "code",
   "execution_count": 14,
   "metadata": {},
   "outputs": [
    {
     "name": "stdout",
     "output_type": "stream",
     "text": [
      "63545 seconds is equal to 17 hours, 39 minutes, 5 seconds.\n"
     ]
    }
   ],
   "source": [
    "seconds = int(input(\"Enter a value in seconds: \"))\n",
    "\n",
    "hours = seconds // 3600  \n",
    "minutes = (seconds % 3600) // 60 \n",
    "seconds_2 = seconds % 60\n",
    "\n",
    "print(f\"{seconds} seconds is equal to {hours} hours, {minutes} minutes, {seconds_2} seconds.\")\n"
   ]
  },
  {
   "cell_type": "code",
   "execution_count": null,
   "metadata": {},
   "outputs": [],
   "source": []
  },
  {
   "cell_type": "code",
   "execution_count": null,
   "metadata": {},
   "outputs": [],
   "source": []
  }
 ],
 "metadata": {
  "kernelspec": {
   "display_name": "base",
   "language": "python",
   "name": "python3"
  },
  "language_info": {
   "codemirror_mode": {
    "name": "ipython",
    "version": 3
   },
   "file_extension": ".py",
   "mimetype": "text/x-python",
   "name": "python",
   "nbconvert_exporter": "python",
   "pygments_lexer": "ipython3",
   "version": "3.11.0"
  },
  "orig_nbformat": 4
 },
 "nbformat": 4,
 "nbformat_minor": 2
}
